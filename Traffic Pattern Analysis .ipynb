import numpy as np
import pandas as pd
import matplotlib.pyplot as plt
from sklearn.linear_model import LinearRegression

# Simulated hourly traffic data (past and future)
hours = np.arange(0, 24).reshape(-1, 1)
traffic_volume = 200 + 50 * np.sin((np.pi / 12) * hours).flatten() + np.random.normal(0, 10, 24)

# Model and prediction
model = LinearRegression()
model.fit(hours, traffic_volume)
future_hours = np.arange(0, 36).reshape(-1, 1)
predicted_volume = model.predict(future_hours)

# Plot
plt.figure(figsize=(10, 5))
plt.plot(hours, traffic_volume, 'bo-', label='Observed')
plt.plot(future_hours, predicted_volume, 'r--', label='Predicted')
plt.xlabel('Hour of Day')
plt.ylabel('Traffic Volume')
plt.title('Traffic Volume Prediction')
plt.legend()
plt.grid(True)
plt.tight_layout()
plt.show()